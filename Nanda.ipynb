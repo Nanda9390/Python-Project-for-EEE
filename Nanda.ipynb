{
  "nbformat": 4,
  "nbformat_minor": 0,
  "metadata": {
    "colab": {
      "provenance": []
    },
    "kernelspec": {
      "name": "python3",
      "display_name": "Python 3"
    },
    "language_info": {
      "name": "python"
    }
  },
  "cells": [
    {
      "cell_type": "code",
      "execution_count": null,
      "metadata": {
        "colab": {
          "base_uri": "https://localhost:8080/"
        },
        "id": "FH6gvziupmDI",
        "outputId": "6d180cb0-ca82-4bd4-e252-4bc34abae2b4"
      },
      "outputs": [
        {
          "output_type": "stream",
          "name": "stdout",
          "text": [
            "Hello Nanda\n"
          ]
        }
      ],
      "source": [
        "\n",
        "def ABCD(Name):\n",
        "  print(\"Hello\", Name)\n",
        "ABCD(\"Nanda\")"
      ]
    },
    {
      "cell_type": "code",
      "source": [
        "a=[\"Nanda\",1,2,3,4]\n",
        "a.append(33)\n",
        "a.insert(1,11)\n",
        "print(a[0])\n",
        "a[5]=\"deva\"\n",
        "print(a)"
      ],
      "metadata": {
        "colab": {
          "base_uri": "https://localhost:8080/"
        },
        "id": "1mG63fZTsncs",
        "outputId": "82c15c2d-b55d-42f0-ab75-357272917664"
      },
      "execution_count": null,
      "outputs": [
        {
          "output_type": "stream",
          "name": "stdout",
          "text": [
            "Nanda\n",
            "['Nanda', 11, 1, 2, 3, 'deva', 33]\n"
          ]
        }
      ]
    },
    {
      "cell_type": "code",
      "source": [
        "\n",
        "def greet(Name):\n",
        "  print(f\"Hello {Name}\")\n",
        "greet(\"Nanda\")\n",
        "greet(\"Bob\")\n",
        "greet(\"Alice\")"
      ],
      "metadata": {
        "colab": {
          "base_uri": "https://localhost:8080/"
        },
        "id": "IN0lf1KTtvJb",
        "outputId": "4e3075d2-9392-435e-9b66-029897395a8b"
      },
      "execution_count": null,
      "outputs": [
        {
          "output_type": "stream",
          "name": "stdout",
          "text": [
            "Hello Nanda\n",
            "Hello Bob\n",
            "Hello Alice\n"
          ]
        }
      ]
    },
    {
      "cell_type": "code",
      "source": [
        "def add_numbers(a,b):\n",
        "  return a+b\n",
        "result=add_numbers(5,3)\n",
        "print(\"sum of a and b is:\",result)"
      ],
      "metadata": {
        "colab": {
          "base_uri": "https://localhost:8080/"
        },
        "id": "bcJvmIFpxSO5",
        "outputId": "3a1bce36-c295-4ba2-95dc-2eb60d9492d8"
      },
      "execution_count": null,
      "outputs": [
        {
          "output_type": "stream",
          "name": "stdout",
          "text": [
            "sum of a and b is: 8\n"
          ]
        }
      ]
    },
    {
      "cell_type": "code",
      "source": [
        "fruits=[\"apple\",\"banana\",\"cherry\"]\n",
        "print(\"fruits:\",fruits)\n",
        "print(\"First fruit is:\",fruits[0])\n",
        "fruits.append(\"mango\")\n",
        "fruits.remove(\"banana\")\n",
        "print(\"updated fruits:\",fruits)"
      ],
      "metadata": {
        "colab": {
          "base_uri": "https://localhost:8080/"
        },
        "id": "xuS-n3JP0DtJ",
        "outputId": "7d9791da-78f6-496a-a69b-f966949eeb0b"
      },
      "execution_count": null,
      "outputs": [
        {
          "output_type": "stream",
          "name": "stdout",
          "text": [
            "fruits: ['apple', 'banana', 'cherry']\n",
            "First fruit is: apple\n",
            "updated fruits: ['apple', 'cherry', 'mango']\n"
          ]
        }
      ]
    },
    {
      "cell_type": "code",
      "source": [
        "def print_fruits(fruit_list):\n",
        "  for fruit in (fruit_list):\n",
        "    print(\"fruit:\",fruit)\n",
        "fruits=[\"apple\",\"banana\",\"cherry\"]\n",
        "print_fruits(fruits)"
      ],
      "metadata": {
        "colab": {
          "base_uri": "https://localhost:8080/"
        },
        "id": "-SObMKZM1coR",
        "outputId": "41e3581a-e2b1-4318-8b5c-0d115a49cc3b"
      },
      "execution_count": null,
      "outputs": [
        {
          "output_type": "stream",
          "name": "stdout",
          "text": [
            "fruit: apple\n",
            "fruit: banana\n",
            "fruit: cherry\n"
          ]
        }
      ]
    },
    {
      "cell_type": "code",
      "source": [
        "num=int(input(\"enter a number:\"))\n",
        "def check_Even_Odd(num):\n",
        "  if num%2==0:\n",
        "    print(f\"{num} is even\")\n",
        "  else:\n",
        "    print(f\"{num} is odd\")\n",
        "check_Even_Odd(num)"
      ],
      "metadata": {
        "id": "nm2hAnYu1-U_",
        "colab": {
          "base_uri": "https://localhost:8080/"
        },
        "outputId": "4b2ca377-1046-49bc-ffdf-b99e35dab479"
      },
      "execution_count": null,
      "outputs": [
        {
          "output_type": "stream",
          "name": "stdout",
          "text": [
            "enter a number:5\n",
            "5 is odd\n"
          ]
        }
      ]
    },
    {
      "cell_type": "code",
      "source": [
        "a='ram vilas'\n",
        "print(type(a))\n"
      ],
      "metadata": {
        "colab": {
          "base_uri": "https://localhost:8080/"
        },
        "id": "UdMK2jvTRguV",
        "outputId": "eeec187c-8795-4911-f462-3d58c8784cf8"
      },
      "execution_count": null,
      "outputs": [
        {
          "output_type": "stream",
          "name": "stdout",
          "text": [
            "<class 'str'>\n"
          ]
        }
      ]
    },
    {
      "cell_type": "code",
      "source": [
        "l1=[79,55,33]\n",
        "x=-10\n",
        "print(max(l1))\n",
        "print(min(l1))\n",
        "print(len(l1))\n",
        "abs(x)"
      ],
      "metadata": {
        "colab": {
          "base_uri": "https://localhost:8080/"
        },
        "id": "l7IZu5fBPw1m",
        "outputId": "95a3af75-a7cd-489b-ea67-b48d343969fb"
      },
      "execution_count": null,
      "outputs": [
        {
          "output_type": "stream",
          "name": "stdout",
          "text": [
            "79\n",
            "33\n",
            "3\n"
          ]
        },
        {
          "output_type": "execute_result",
          "data": {
            "text/plain": [
              "10"
            ]
          },
          "metadata": {},
          "execution_count": 45
        }
      ]
    },
    {
      "cell_type": "code",
      "source": [
        "def ohms_law(V=None,I=None,R=None):\n",
        "  if V is  None :\n",
        "    return I*R\n",
        "  elif I is None:\n",
        "    return V/R\n",
        "  elif R is None:\n",
        "    return V/I\n",
        "  else:\n",
        "    return None\n",
        "voltage=ohms_law(I=2,R=3)\n",
        "print(f\"Voltage is {voltage} volts\")"
      ],
      "metadata": {
        "colab": {
          "base_uri": "https://localhost:8080/"
        },
        "id": "i9vBVRwKSmOk",
        "outputId": "f61aa0c7-000f-442e-de89-350d6ffc06e7"
      },
      "execution_count": null,
      "outputs": [
        {
          "output_type": "stream",
          "name": "stdout",
          "text": [
            "Voltage is 6 volts\n"
          ]
        }
      ]
    },
    {
      "cell_type": "code",
      "source": [
        "def a(numbers):\n",
        "  doubled=[]\n",
        "  for number in numbers:\n",
        "    doubled.append(number*2)\n",
        "  return doubled\n",
        "numbers=[1,2,3,4,5]\n",
        "result=a(numbers)\n",
        "print(\"original:\",numbers)\n",
        "print(\"doubled:\",result)\n"
      ],
      "metadata": {
        "colab": {
          "base_uri": "https://localhost:8080/"
        },
        "id": "kmrpC1m-XgYy",
        "outputId": "54bc2557-8b2c-4f8f-9fd0-ff8d709c896e"
      },
      "execution_count": null,
      "outputs": [
        {
          "output_type": "stream",
          "name": "stdout",
          "text": [
            "original: [1, 2, 3, 4, 5]\n",
            "doubled: [2, 4, 6, 8, 10]\n"
          ]
        }
      ]
    },
    {
      "cell_type": "code",
      "source": [
        "def add(a,b):\n",
        "  return a*b\n",
        "print(add(565456416471,15489741))"
      ],
      "metadata": {
        "colab": {
          "base_uri": "https://localhost:8080/"
        },
        "id": "lsL68E40Zp8t",
        "outputId": "fe001ee6-e660-437e-eb0f-e0b0c57a4afc"
      },
      "execution_count": null,
      "outputs": [
        {
          "output_type": "stream",
          "name": "stdout",
          "text": [
            "8758773437923924011\n"
          ]
        }
      ]
    },
    {
      "cell_type": "code",
      "source": [
        "def pandu(name):\n",
        " print(\"hello\",name)\n",
        "pandu(\"dev\")"
      ],
      "metadata": {
        "colab": {
          "base_uri": "https://localhost:8080/"
        },
        "id": "apW0kAkuceTR",
        "outputId": "4cd02aa5-71e7-4325-ea05-7b985373e992"
      },
      "execution_count": null,
      "outputs": [
        {
          "output_type": "stream",
          "name": "stdout",
          "text": [
            "hello dev\n"
          ]
        }
      ]
    },
    {
      "cell_type": "code",
      "source": [
        "fruits=[\"apple\",\"ORANGE\",\"CHERRY\"]\n",
        "fruits.append(\"banana\")\n",
        "fruits.remove(\"apple\")\n",
        "fruits.insert(1,\"mango\")\n",
        "print(fruits[3])\n",
        "print(\"fruits\",fruits)"
      ],
      "metadata": {
        "colab": {
          "base_uri": "https://localhost:8080/"
        },
        "id": "oaAb66RXesTQ",
        "outputId": "9a6f159c-db5d-454e-c4a8-818676b08541"
      },
      "execution_count": null,
      "outputs": [
        {
          "output_type": "stream",
          "name": "stdout",
          "text": [
            "banana\n",
            "fruits ['ORANGE', 'mango', 'CHERRY', 'banana']\n"
          ]
        }
      ]
    },
    {
      "cell_type": "code",
      "source": [
        "import math\n",
        "radius=5\n",
        "area=math.pi*radius**2\n",
        "print(f\"the area of a circle with radius {radius} is {area:.3f}\")"
      ],
      "metadata": {
        "colab": {
          "base_uri": "https://localhost:8080/"
        },
        "id": "gZS5p8RMfuH_",
        "outputId": "84e89abb-07d0-4db0-e20a-084b1887a723"
      },
      "execution_count": null,
      "outputs": [
        {
          "output_type": "stream",
          "name": "stdout",
          "text": [
            "the area of a circle with radius 5 is 78.540\n"
          ]
        }
      ]
    },
    {
      "cell_type": "code",
      "source": [
        "num=[1,2,3]\n",
        "num.append(5)\n",
        "num.insert(0,8)\n",
        "num.remove(2)\n",
        "print(\"num\",num)"
      ],
      "metadata": {
        "colab": {
          "base_uri": "https://localhost:8080/"
        },
        "id": "cQ1CmEoLg9Ef",
        "outputId": "a3c4cf7d-640b-4e3e-dd29-4c6beb4aa207"
      },
      "execution_count": null,
      "outputs": [
        {
          "output_type": "stream",
          "name": "stdout",
          "text": [
            "num [8, 1, 3, 5]\n"
          ]
        }
      ]
    },
    {
      "cell_type": "code",
      "source": [
        "mass=1000\n",
        "velocity=20\n",
        "ke=0.5*mass*velocity**2\n",
        "print(\"kinetic energy:\",ke,\"joules\")"
      ],
      "metadata": {
        "colab": {
          "base_uri": "https://localhost:8080/"
        },
        "id": "tP4NUvCJiZ6-",
        "outputId": "32ed9d4a-f2e9-465a-f572-909f29429034"
      },
      "execution_count": null,
      "outputs": [
        {
          "output_type": "stream",
          "name": "stdout",
          "text": [
            "kinetic energy: 200000.0 joules\n"
          ]
        }
      ]
    },
    {
      "cell_type": "code",
      "source": [
        "number=int(input(\"enter the number:\"))\n",
        "for j in range(1,11):\n",
        "  print(f\"{number}*{j}={number*j}\")\n"
      ],
      "metadata": {
        "colab": {
          "base_uri": "https://localhost:8080/"
        },
        "id": "4SAuxw16j5Ef",
        "outputId": "2f713773-bb63-4b3c-b02f-bb372a011a6a"
      },
      "execution_count": null,
      "outputs": [
        {
          "output_type": "stream",
          "name": "stdout",
          "text": [
            "enter the number:5\n",
            "5*1=5\n",
            "5*2=10\n",
            "5*3=15\n",
            "5*4=20\n",
            "5*5=25\n",
            "5*6=30\n",
            "5*7=35\n",
            "5*8=40\n",
            "5*9=45\n",
            "5*10=50\n"
          ]
        }
      ]
    },
    {
      "cell_type": "code",
      "source": [
        "def a(numbers,limits=10):\n",
        "  for i in range(1,limits+1):\n",
        "    row=\"\"\n",
        "    for num in numbers:\n",
        "      row +=f\"{num*i}\"\n",
        "    print(row)\n",
        "numbers=[1,2,3,4,5]\n",
        "a(numbers)\n"
      ],
      "metadata": {
        "colab": {
          "base_uri": "https://localhost:8080/"
        },
        "id": "TzpUxKp7kjT-",
        "outputId": "549a234d-6be2-4ec0-f050-2361b8aa9e2c"
      },
      "execution_count": null,
      "outputs": [
        {
          "output_type": "stream",
          "name": "stdout",
          "text": [
            "12345\n",
            "246810\n",
            "3691215\n",
            "48121620\n",
            "510152025\n",
            "612182430\n",
            "714212835\n",
            "816243240\n",
            "918273645\n",
            "1020304050\n"
          ]
        }
      ]
    },
    {
      "cell_type": "code",
      "source": [],
      "metadata": {
        "id": "5vWkJNM5mI7N"
      },
      "execution_count": null,
      "outputs": []
    },
    {
      "cell_type": "code",
      "source": [
        "for i in range(1,11):\n",
        "  for j in range(1,21):\n",
        "    print(f\"{j}*{i}={i*j}\",end=\"\\t\")\n",
        "  print()\n"
      ],
      "metadata": {
        "colab": {
          "base_uri": "https://localhost:8080/"
        },
        "id": "MHyCjok9mVrn",
        "outputId": "d284ccf5-b2a4-4226-c531-d004a088f16e"
      },
      "execution_count": null,
      "outputs": [
        {
          "output_type": "stream",
          "name": "stdout",
          "text": [
            "1*1=1\t2*1=2\t3*1=3\t4*1=4\t5*1=5\t6*1=6\t7*1=7\t8*1=8\t9*1=9\t10*1=10\t11*1=11\t12*1=12\t13*1=13\t14*1=14\t15*1=15\t16*1=16\t17*1=17\t18*1=18\t19*1=19\t20*1=20\t\n",
            "1*2=2\t2*2=4\t3*2=6\t4*2=8\t5*2=10\t6*2=12\t7*2=14\t8*2=16\t9*2=18\t10*2=20\t11*2=22\t12*2=24\t13*2=26\t14*2=28\t15*2=30\t16*2=32\t17*2=34\t18*2=36\t19*2=38\t20*2=40\t\n",
            "1*3=3\t2*3=6\t3*3=9\t4*3=12\t5*3=15\t6*3=18\t7*3=21\t8*3=24\t9*3=27\t10*3=30\t11*3=33\t12*3=36\t13*3=39\t14*3=42\t15*3=45\t16*3=48\t17*3=51\t18*3=54\t19*3=57\t20*3=60\t\n",
            "1*4=4\t2*4=8\t3*4=12\t4*4=16\t5*4=20\t6*4=24\t7*4=28\t8*4=32\t9*4=36\t10*4=40\t11*4=44\t12*4=48\t13*4=52\t14*4=56\t15*4=60\t16*4=64\t17*4=68\t18*4=72\t19*4=76\t20*4=80\t\n",
            "1*5=5\t2*5=10\t3*5=15\t4*5=20\t5*5=25\t6*5=30\t7*5=35\t8*5=40\t9*5=45\t10*5=50\t11*5=55\t12*5=60\t13*5=65\t14*5=70\t15*5=75\t16*5=80\t17*5=85\t18*5=90\t19*5=95\t20*5=100\t\n",
            "1*6=6\t2*6=12\t3*6=18\t4*6=24\t5*6=30\t6*6=36\t7*6=42\t8*6=48\t9*6=54\t10*6=60\t11*6=66\t12*6=72\t13*6=78\t14*6=84\t15*6=90\t16*6=96\t17*6=102\t18*6=108\t19*6=114\t20*6=120\t\n",
            "1*7=7\t2*7=14\t3*7=21\t4*7=28\t5*7=35\t6*7=42\t7*7=49\t8*7=56\t9*7=63\t10*7=70\t11*7=77\t12*7=84\t13*7=91\t14*7=98\t15*7=105\t16*7=112\t17*7=119\t18*7=126\t19*7=133\t20*7=140\t\n",
            "1*8=8\t2*8=16\t3*8=24\t4*8=32\t5*8=40\t6*8=48\t7*8=56\t8*8=64\t9*8=72\t10*8=80\t11*8=88\t12*8=96\t13*8=104\t14*8=112\t15*8=120\t16*8=128\t17*8=136\t18*8=144\t19*8=152\t20*8=160\t\n",
            "1*9=9\t2*9=18\t3*9=27\t4*9=36\t5*9=45\t6*9=54\t7*9=63\t8*9=72\t9*9=81\t10*9=90\t11*9=99\t12*9=108\t13*9=117\t14*9=126\t15*9=135\t16*9=144\t17*9=153\t18*9=162\t19*9=171\t20*9=180\t\n",
            "1*10=10\t2*10=20\t3*10=30\t4*10=40\t5*10=50\t6*10=60\t7*10=70\t8*10=80\t9*10=90\t10*10=100\t11*10=110\t12*10=120\t13*10=130\t14*10=140\t15*10=150\t16*10=160\t17*10=170\t18*10=180\t19*10=190\t20*10=200\t\n"
          ]
        }
      ]
    },
    {
      "cell_type": "code",
      "source": [
        "for i in range(1,11):\n",
        " for j in range(1,16):\n",
        "  print(f\"{j}*{i}={i*j}\",end=\"\\t\")\n",
        " print()"
      ],
      "metadata": {
        "colab": {
          "base_uri": "https://localhost:8080/"
        },
        "id": "7Fciu2GGmtit",
        "outputId": "b0a8b490-0035-4816-9b15-636837a3a181"
      },
      "execution_count": null,
      "outputs": [
        {
          "output_type": "stream",
          "name": "stdout",
          "text": [
            "1*1=1\t2*1=2\t3*1=3\t4*1=4\t5*1=5\t6*1=6\t7*1=7\t8*1=8\t9*1=9\t10*1=10\t11*1=11\t12*1=12\t13*1=13\t14*1=14\t15*1=15\t\n",
            "1*2=2\t2*2=4\t3*2=6\t4*2=8\t5*2=10\t6*2=12\t7*2=14\t8*2=16\t9*2=18\t10*2=20\t11*2=22\t12*2=24\t13*2=26\t14*2=28\t15*2=30\t\n",
            "1*3=3\t2*3=6\t3*3=9\t4*3=12\t5*3=15\t6*3=18\t7*3=21\t8*3=24\t9*3=27\t10*3=30\t11*3=33\t12*3=36\t13*3=39\t14*3=42\t15*3=45\t\n",
            "1*4=4\t2*4=8\t3*4=12\t4*4=16\t5*4=20\t6*4=24\t7*4=28\t8*4=32\t9*4=36\t10*4=40\t11*4=44\t12*4=48\t13*4=52\t14*4=56\t15*4=60\t\n",
            "1*5=5\t2*5=10\t3*5=15\t4*5=20\t5*5=25\t6*5=30\t7*5=35\t8*5=40\t9*5=45\t10*5=50\t11*5=55\t12*5=60\t13*5=65\t14*5=70\t15*5=75\t\n",
            "1*6=6\t2*6=12\t3*6=18\t4*6=24\t5*6=30\t6*6=36\t7*6=42\t8*6=48\t9*6=54\t10*6=60\t11*6=66\t12*6=72\t13*6=78\t14*6=84\t15*6=90\t\n",
            "1*7=7\t2*7=14\t3*7=21\t4*7=28\t5*7=35\t6*7=42\t7*7=49\t8*7=56\t9*7=63\t10*7=70\t11*7=77\t12*7=84\t13*7=91\t14*7=98\t15*7=105\t\n",
            "1*8=8\t2*8=16\t3*8=24\t4*8=32\t5*8=40\t6*8=48\t7*8=56\t8*8=64\t9*8=72\t10*8=80\t11*8=88\t12*8=96\t13*8=104\t14*8=112\t15*8=120\t\n",
            "1*9=9\t2*9=18\t3*9=27\t4*9=36\t5*9=45\t6*9=54\t7*9=63\t8*9=72\t9*9=81\t10*9=90\t11*9=99\t12*9=108\t13*9=117\t14*9=126\t15*9=135\t\n",
            "1*10=10\t2*10=20\t3*10=30\t4*10=40\t5*10=50\t6*10=60\t7*10=70\t8*10=80\t9*10=90\t10*10=100\t11*10=110\t12*10=120\t13*10=130\t14*10=140\t15*10=150\t\n"
          ]
        }
      ]
    },
    {
      "cell_type": "code",
      "source": [
        "name=input(\"enter the name:\")\n",
        "course=input(\"enter the name:\")\n",
        "address=input(\"enter the name:\")\n",
        "print(f\"student info:\\nname:{name}\\ncourse:{course}\\naddress:{address }\")"
      ],
      "metadata": {
        "colab": {
          "base_uri": "https://localhost:8080/"
        },
        "id": "83psx0oKonq8",
        "outputId": "cc349ec5-99d2-4ea6-8c38-d76bb566618f"
      },
      "execution_count": null,
      "outputs": [
        {
          "output_type": "stream",
          "name": "stdout",
          "text": [
            "enter the name:Raghu\n",
            "enter the name:EEE\n",
            "enter the name:Nandavaram\n",
            "student info:\n",
            "name:Raghu\n",
            "course:EEE\n",
            "address:Nandavaram\n"
          ]
        }
      ]
    },
    {
      "cell_type": "code",
      "source": [],
      "metadata": {
        "id": "GkT7hvzSvcR3"
      },
      "execution_count": null,
      "outputs": []
    },
    {
      "cell_type": "code",
      "source": [
        "import math\n",
        "a=5\n",
        "omega=2**math.pi\n",
        "t=0.5\n",
        "x=a\n",
        "print(\"displacement:\",x,\"m\")"
      ],
      "metadata": {
        "colab": {
          "base_uri": "https://localhost:8080/"
        },
        "id": "lUEF2SNRrgGM",
        "outputId": "ab3b5bd1-d835-414e-fea4-b7a310104cf8"
      },
      "execution_count": null,
      "outputs": [
        {
          "output_type": "stream",
          "name": "stdout",
          "text": [
            "displacement: 5 m\n"
          ]
        }
      ]
    },
    {
      "cell_type": "code",
      "source": [
        "import random\n",
        "otp=random.randint(100000,999999)\n",
        "print(\"OTP:\",otp)\n",
        "entered_otp=int(input(\"Enter otp:\"))\n",
        "if entered_otp==otp:\n",
        "  print(\"OTP verified successfully!\")\n",
        "else:\n",
        "  print(\"Invalid OTP,Please try again!\")"
      ],
      "metadata": {
        "id": "SQrQRTNZvZda",
        "colab": {
          "base_uri": "https://localhost:8080/"
        },
        "outputId": "85d83f29-d0e0-42cf-d06b-fe2f5738a27b"
      },
      "execution_count": null,
      "outputs": [
        {
          "output_type": "stream",
          "name": "stdout",
          "text": [
            "OTP: 704482\n",
            "Enter otp:704482\n",
            "OTP verified successfully!\n"
          ]
        }
      ]
    },
    {
      "cell_type": "code",
      "source": [
        "for i in range(1,6):\n",
        "  print(i)\n",
        "count=1\n",
        "while count<=5:\n",
        "  print(count)\n",
        "  count+=1\n"
      ],
      "metadata": {
        "colab": {
          "base_uri": "https://localhost:8080/"
        },
        "id": "bQNQBVrg8B0G",
        "outputId": "7d2fd51e-b3b4-4605-a61d-a0e90667595a"
      },
      "execution_count": null,
      "outputs": [
        {
          "output_type": "stream",
          "name": "stdout",
          "text": [
            "1\n",
            "2\n",
            "3\n",
            "4\n",
            "5\n",
            "1\n",
            "2\n",
            "3\n",
            "4\n",
            "5\n"
          ]
        }
      ]
    },
    {
      "cell_type": "code",
      "source": [
        "text=\"python is fun\"\n",
        "print(text.upper())\n",
        "print(text[0:6])"
      ],
      "metadata": {
        "colab": {
          "base_uri": "https://localhost:8080/"
        },
        "id": "d6v550y6-MkE",
        "outputId": "e81dbc53-6a56-46ce-d1f2-0363b55a56e0"
      },
      "execution_count": null,
      "outputs": [
        {
          "output_type": "stream",
          "name": "stdout",
          "text": [
            "PYTHON IS FUN\n",
            "python\n"
          ]
        }
      ]
    },
    {
      "cell_type": "code",
      "source": [
        "num=int(input(\"enter the number:\"))\n",
        "def factorial(num):\n",
        "  for i in range (num):\n",
        "    print(f\"factorial{num}\")"
      ],
      "metadata": {
        "colab": {
          "base_uri": "https://localhost:8080/"
        },
        "id": "NTGW0IgvBA-C",
        "outputId": "e349d8f5-6f3f-4535-a4d1-057a37d0ccc7"
      },
      "execution_count": null,
      "outputs": [
        {
          "name": "stdout",
          "output_type": "stream",
          "text": [
            "enter the number:5\n"
          ]
        }
      ]
    },
    {
      "cell_type": "code",
      "source": [
        "import math\n",
        "num=int(input(\"enter a number\"))\n",
        "print(math.factorial(num))\n"
      ],
      "metadata": {
        "colab": {
          "base_uri": "https://localhost:8080/"
        },
        "id": "3mzfzGdVDGYB",
        "outputId": "8c2baa1c-0864-407a-c8a9-a305c0989321"
      },
      "execution_count": null,
      "outputs": [
        {
          "output_type": "stream",
          "name": "stdout",
          "text": [
            "enter a number5\n",
            "120\n"
          ]
        }
      ]
    },
    {
      "cell_type": "code",
      "source": [
        "\n",
        "def factorial(n):\n",
        "    if n == 0 or n == 1:  # Base case\n",
        "        return 1\n",
        "    else:  # Recursive case\n",
        "        return n * factorial(n - 1)\n",
        "print(factorial(5))  # Output: 120\n"
      ],
      "metadata": {
        "colab": {
          "base_uri": "https://localhost:8080/"
        },
        "id": "djxK4mSjEHAB",
        "outputId": "14abc1fb-8843-4291-a334-fabd87d819d4"
      },
      "execution_count": null,
      "outputs": [
        {
          "output_type": "stream",
          "name": "stdout",
          "text": [
            "120\n"
          ]
        }
      ]
    },
    {
      "cell_type": "code",
      "source": [
        "def squares(n):\n",
        "  for n in range(1,9):\n",
        "    if n==0 or n==1:\n",
        "      return 1\n",
        "    else:\n",
        "      return n**2\n",
        "print(squares(4))"
      ],
      "metadata": {
        "id": "Vph2a2DCEQMB",
        "colab": {
          "base_uri": "https://localhost:8080/"
        },
        "outputId": "6fa78219-c91d-4673-8065-0e6b8efe29ff"
      },
      "execution_count": null,
      "outputs": [
        {
          "output_type": "stream",
          "name": "stdout",
          "text": [
            "1\n"
          ]
        }
      ]
    },
    {
      "cell_type": "code",
      "source": [
        "num=int(input(\"enter the number:\"))\n",
        "for i in range(1,11):\n",
        "  print(f\"{num}*{i}={num*i}\")"
      ],
      "metadata": {
        "colab": {
          "base_uri": "https://localhost:8080/"
        },
        "id": "oLpDm3aDWNM6",
        "outputId": "3a27e64a-0725-4c40-8815-7f354b297a56"
      },
      "execution_count": null,
      "outputs": [
        {
          "output_type": "stream",
          "name": "stdout",
          "text": [
            "enter the number:5\n",
            "5*1=5\n",
            "5*2=10\n",
            "5*3=15\n",
            "5*4=20\n",
            "5*5=25\n",
            "5*6=30\n",
            "5*7=35\n",
            "5*8=40\n",
            "5*9=45\n",
            "5*10=50\n"
          ]
        }
      ]
    },
    {
      "cell_type": "code",
      "source": [
        "num=int(input(\"enter the number:\"))\n",
        "for i in range(1,2):\n",
        "  print(f\"{num*i}\")"
      ],
      "metadata": {
        "colab": {
          "base_uri": "https://localhost:8080/"
        },
        "id": "RrHeEWxiZVZW",
        "outputId": "31ff63f2-1186-480e-ab83-4257a24117e4"
      },
      "execution_count": null,
      "outputs": [
        {
          "output_type": "stream",
          "name": "stdout",
          "text": [
            "enter the number:5\n",
            "5\n"
          ]
        }
      ]
    },
    {
      "cell_type": "code",
      "source": [
        "def torque(radius,force):\n",
        "  return radius*force\n",
        "radius=int(input(\"enter the radius:\"))\n",
        "force=int(input(\"enter the force:\"))\n",
        "print(\"Torque:\",torque(radius,force),\"N-M\")"
      ],
      "metadata": {
        "colab": {
          "base_uri": "https://localhost:8080/"
        },
        "id": "qi48ReLxabk2",
        "outputId": "b45fb97c-8262-495f-e156-a0d2a50f087d"
      },
      "execution_count": null,
      "outputs": [
        {
          "output_type": "stream",
          "name": "stdout",
          "text": [
            "enter the radius:2\n",
            "enter the force:23\n",
            "Torque: 46 N-M\n"
          ]
        }
      ]
    },
    {
      "cell_type": "code",
      "source": [
        "for i in range(1,6):\n",
        "  print(\"*\" *i)"
      ],
      "metadata": {
        "colab": {
          "base_uri": "https://localhost:8080/"
        },
        "id": "qHx1PzDpa5MW",
        "outputId": "06c46dc5-2c57-44e9-a83f-409388a0a109"
      },
      "execution_count": null,
      "outputs": [
        {
          "output_type": "stream",
          "name": "stdout",
          "text": [
            "*\n",
            "**\n",
            "***\n",
            "****\n",
            "*****\n"
          ]
        }
      ]
    },
    {
      "cell_type": "code",
      "source": [
        "num=15627\n",
        "reverse=int(str(num)[::-1])\n",
        "print(\"Reverse of \",num,\"is\",reverse)\n"
      ],
      "metadata": {
        "colab": {
          "base_uri": "https://localhost:8080/"
        },
        "id": "POjRt4QEdUhl",
        "outputId": "43768d5e-21be-4605-fc6e-0adad774cde5"
      },
      "execution_count": null,
      "outputs": [
        {
          "output_type": "stream",
          "name": "stdout",
          "text": [
            "Reverse of  15627 is 72651\n"
          ]
        }
      ]
    },
    {
      "cell_type": "code",
      "source": [
        "n=12389\n",
        "reverse=0\n",
        "\n",
        "while n>0:\n",
        "  digit=n%10\n",
        "  reverse=reverse*10+digit\n",
        "  n //=10\n",
        "\n",
        "print(\"Revesred number\",reverse)"
      ],
      "metadata": {
        "colab": {
          "base_uri": "https://localhost:8080/"
        },
        "id": "QvgvRX8zfa1D",
        "outputId": "e9e1d87b-1cd8-43ea-cba9-1e525cfda088"
      },
      "execution_count": null,
      "outputs": [
        {
          "output_type": "stream",
          "name": "stdout",
          "text": [
            "Revesred number 98321\n"
          ]
        }
      ]
    },
    {
      "cell_type": "code",
      "source": [
        "# Reverse a number using arithmetic\n",
        "num = 15621\n",
        "reverse = 0\n",
        "\n",
        "while num > 0:\n",
        "    digit = num % 10          # Get last digit\n",
        "    reverse = reverse * 10 + digit  # Append digit to reverse\n",
        "    num //= 10                # Remove last digit\n",
        "\n",
        "print(\"Reversed number:\", reverse)\n"
      ],
      "metadata": {
        "colab": {
          "base_uri": "https://localhost:8080/"
        },
        "id": "89pHp9TQhvaT",
        "outputId": "e2a5287c-4a3a-4c5d-92d6-9e4afe493034"
      },
      "execution_count": null,
      "outputs": [
        {
          "output_type": "stream",
          "name": "stdout",
          "text": [
            "Reversed number: 12651\n"
          ]
        }
      ]
    },
    {
      "cell_type": "code",
      "source": [
        "n=\"APPLE\"\n",
        "reverse=(str(n)[::-1])\n",
        "print(\"Reversed :\",reverse)"
      ],
      "metadata": {
        "colab": {
          "base_uri": "https://localhost:8080/"
        },
        "id": "rH4MhfcZiPzb",
        "outputId": "6a01cccd-00c7-44d1-a777-b7938e381cb7"
      },
      "execution_count": null,
      "outputs": [
        {
          "output_type": "stream",
          "name": "stdout",
          "text": [
            "Reversed : ELPPA\n"
          ]
        }
      ]
    },
    {
      "cell_type": "code",
      "source": [
        "word=input(\"Enetr  a word:\")\n",
        "print(\"Reversed  word is\",str(word[::-1]))"
      ],
      "metadata": {
        "colab": {
          "base_uri": "https://localhost:8080/"
        },
        "id": "Z6wisTfuifjz",
        "outputId": "b6d96401-8555-4099-d640-3c6869824ff5"
      },
      "execution_count": null,
      "outputs": [
        {
          "output_type": "stream",
          "name": "stdout",
          "text": [
            "Enetr  a word:RAGHU\n",
            "Reversed  word is UHGAR\n"
          ]
        }
      ]
    },
    {
      "cell_type": "code",
      "source": [
        "def power(V,I):\n",
        "  return V*I\n",
        "print(\"Power:\",power(50,20),\"Watts\")"
      ],
      "metadata": {
        "id": "sISHBUCsn3SA",
        "colab": {
          "base_uri": "https://localhost:8080/"
        },
        "outputId": "9fae8559-3577-4113-c36c-51069b965bb5"
      },
      "execution_count": null,
      "outputs": [
        {
          "output_type": "stream",
          "name": "stdout",
          "text": [
            "Power: 1000 Watts\n"
          ]
        }
      ]
    },
    {
      "cell_type": "code",
      "source": [
        "num = int(input(\"Enter the number:\"))\n",
        "num_str=str(num)\n",
        "if num_str == num_str[::-1]:\n",
        "  print(num, \"is a Palindrome number\")\n",
        "else:\n",
        "  print(num, \"is not a palindrome number\")"
      ],
      "metadata": {
        "colab": {
          "base_uri": "https://localhost:8080/"
        },
        "id": "TqPE4pvhHBqK",
        "outputId": "26a21da9-39f2-4bec-eea8-2445f09bda9a"
      },
      "execution_count": null,
      "outputs": [
        {
          "output_type": "stream",
          "name": "stdout",
          "text": [
            "Enter the number:121\n",
            "121 is a Palindrome number\n"
          ]
        }
      ]
    },
    {
      "cell_type": "code",
      "source": [
        "from turtle import *\n",
        "from colorsys import *\n",
        "import matplotlib.pyplot as plt\n",
        "\n",
        "# Set up the screen and turtle\n",
        "screen = Screen()\n",
        "screen.setup(width=600, height=600)\n",
        "screen.bgcolor('black')\n",
        "screen.tracer(0)  # Turn off screen updates\n",
        "\n",
        "t = Turtle()\n",
        "t.speed(0)\n",
        "t.pensize(2)\n",
        "\n",
        "h = 0.0\n",
        "\n",
        "for i in range(120):\n",
        "    for j in range(4):\n",
        "        t.color(hsv_to_rgb(h, 1, 0.8)) # Use 0.8 for value for better visibility\n",
        "        h += 0.003\n",
        "        t.circle(40 + i * 0.5, 90) # Adjusted circle size increase for smoother animation\n",
        "        t.forward(150) # Adjusted forward distance\n",
        "        t.left(90)\n",
        "    t.rt(10)\n",
        "\n",
        "t.hideturtle()\n",
        "screen.update() # Update the screen once drawing is complete\n",
        "\n",
        "# Save the drawing to a file\n",
        "screen.getcanvas().postscript(file=\"turtle_drawing.ps\")\n",
        "\n",
        "# Optional: Display the saved image using matplotlib\n",
        "try:\n",
        "    from PIL import Image\n",
        "    img = Image.open(\"turtle_drawing.ps\")\n",
        "    plt.imshow(img)\n",
        "    plt.axis('off') # Hide axes\n",
        "    plt.show()\n",
        "except ImportError:\n",
        "    print(\"Pillow library not found. Cannot display the saved image.\")\n",
        "    print(\"The drawing has been saved as 'turtle_drawing.ps'\")\n",
        "\n",
        "# Keep the window open (not applicable in this environment, but good practice for local turtle)\n",
        "# done()"
      ],
      "metadata": {
        "colab": {
          "base_uri": "https://localhost:8080/",
          "height": 356
        },
        "id": "AAzvY4HoJZvZ",
        "outputId": "88b32b11-980b-4f30-c3ae-7ed855cf733d"
      },
      "execution_count": null,
      "outputs": [
        {
          "output_type": "error",
          "ename": "TclError",
          "evalue": "no display name and no $DISPLAY environment variable",
          "traceback": [
            "\u001b[0;31m---------------------------------------------------------------------------\u001b[0m",
            "\u001b[0;31mTclError\u001b[0m                                  Traceback (most recent call last)",
            "\u001b[0;32m/tmp/ipython-input-1787114027.py\u001b[0m in \u001b[0;36m<cell line: 0>\u001b[0;34m()\u001b[0m\n\u001b[1;32m      4\u001b[0m \u001b[0;34m\u001b[0m\u001b[0m\n\u001b[1;32m      5\u001b[0m \u001b[0;31m# Set up the screen and turtle\u001b[0m\u001b[0;34m\u001b[0m\u001b[0;34m\u001b[0m\u001b[0m\n\u001b[0;32m----> 6\u001b[0;31m \u001b[0mscreen\u001b[0m \u001b[0;34m=\u001b[0m \u001b[0mScreen\u001b[0m\u001b[0;34m(\u001b[0m\u001b[0;34m)\u001b[0m\u001b[0;34m\u001b[0m\u001b[0;34m\u001b[0m\u001b[0m\n\u001b[0m\u001b[1;32m      7\u001b[0m \u001b[0mscreen\u001b[0m\u001b[0;34m.\u001b[0m\u001b[0msetup\u001b[0m\u001b[0;34m(\u001b[0m\u001b[0mwidth\u001b[0m\u001b[0;34m=\u001b[0m\u001b[0;36m600\u001b[0m\u001b[0;34m,\u001b[0m \u001b[0mheight\u001b[0m\u001b[0;34m=\u001b[0m\u001b[0;36m600\u001b[0m\u001b[0;34m)\u001b[0m\u001b[0;34m\u001b[0m\u001b[0;34m\u001b[0m\u001b[0m\n\u001b[1;32m      8\u001b[0m \u001b[0mscreen\u001b[0m\u001b[0;34m.\u001b[0m\u001b[0mbgcolor\u001b[0m\u001b[0;34m(\u001b[0m\u001b[0;34m'black'\u001b[0m\u001b[0;34m)\u001b[0m\u001b[0;34m\u001b[0m\u001b[0;34m\u001b[0m\u001b[0m\n",
            "\u001b[0;32m/usr/lib/python3.11/turtle.py\u001b[0m in \u001b[0;36mScreen\u001b[0;34m()\u001b[0m\n\u001b[1;32m   3678\u001b[0m     else return the existing one.\"\"\"\n\u001b[1;32m   3679\u001b[0m     \u001b[0;32mif\u001b[0m \u001b[0mTurtle\u001b[0m\u001b[0;34m.\u001b[0m\u001b[0m_screen\u001b[0m \u001b[0;32mis\u001b[0m \u001b[0;32mNone\u001b[0m\u001b[0;34m:\u001b[0m\u001b[0;34m\u001b[0m\u001b[0;34m\u001b[0m\u001b[0m\n\u001b[0;32m-> 3680\u001b[0;31m         \u001b[0mTurtle\u001b[0m\u001b[0;34m.\u001b[0m\u001b[0m_screen\u001b[0m \u001b[0;34m=\u001b[0m \u001b[0m_Screen\u001b[0m\u001b[0;34m(\u001b[0m\u001b[0;34m)\u001b[0m\u001b[0;34m\u001b[0m\u001b[0;34m\u001b[0m\u001b[0m\n\u001b[0m\u001b[1;32m   3681\u001b[0m     \u001b[0;32mreturn\u001b[0m \u001b[0mTurtle\u001b[0m\u001b[0;34m.\u001b[0m\u001b[0m_screen\u001b[0m\u001b[0;34m\u001b[0m\u001b[0;34m\u001b[0m\u001b[0m\n\u001b[1;32m   3682\u001b[0m \u001b[0;34m\u001b[0m\u001b[0m\n",
            "\u001b[0;32m/usr/lib/python3.11/turtle.py\u001b[0m in \u001b[0;36m__init__\u001b[0;34m(self)\u001b[0m\n\u001b[1;32m   3694\u001b[0m         \u001b[0;31m# preserved (perhaps by passing it as an optional parameter)\u001b[0m\u001b[0;34m\u001b[0m\u001b[0;34m\u001b[0m\u001b[0m\n\u001b[1;32m   3695\u001b[0m         \u001b[0;32mif\u001b[0m \u001b[0m_Screen\u001b[0m\u001b[0;34m.\u001b[0m\u001b[0m_root\u001b[0m \u001b[0;32mis\u001b[0m \u001b[0;32mNone\u001b[0m\u001b[0;34m:\u001b[0m\u001b[0;34m\u001b[0m\u001b[0;34m\u001b[0m\u001b[0m\n\u001b[0;32m-> 3696\u001b[0;31m             \u001b[0m_Screen\u001b[0m\u001b[0;34m.\u001b[0m\u001b[0m_root\u001b[0m \u001b[0;34m=\u001b[0m \u001b[0mself\u001b[0m\u001b[0;34m.\u001b[0m\u001b[0m_root\u001b[0m \u001b[0;34m=\u001b[0m \u001b[0m_Root\u001b[0m\u001b[0;34m(\u001b[0m\u001b[0;34m)\u001b[0m\u001b[0;34m\u001b[0m\u001b[0;34m\u001b[0m\u001b[0m\n\u001b[0m\u001b[1;32m   3697\u001b[0m             \u001b[0mself\u001b[0m\u001b[0;34m.\u001b[0m\u001b[0m_root\u001b[0m\u001b[0;34m.\u001b[0m\u001b[0mtitle\u001b[0m\u001b[0;34m(\u001b[0m\u001b[0m_Screen\u001b[0m\u001b[0;34m.\u001b[0m\u001b[0m_title\u001b[0m\u001b[0;34m)\u001b[0m\u001b[0;34m\u001b[0m\u001b[0;34m\u001b[0m\u001b[0m\n\u001b[1;32m   3698\u001b[0m             \u001b[0mself\u001b[0m\u001b[0;34m.\u001b[0m\u001b[0m_root\u001b[0m\u001b[0;34m.\u001b[0m\u001b[0mondestroy\u001b[0m\u001b[0;34m(\u001b[0m\u001b[0mself\u001b[0m\u001b[0;34m.\u001b[0m\u001b[0m_destroy\u001b[0m\u001b[0;34m)\u001b[0m\u001b[0;34m\u001b[0m\u001b[0;34m\u001b[0m\u001b[0m\n",
            "\u001b[0;32m/usr/lib/python3.11/turtle.py\u001b[0m in \u001b[0;36m__init__\u001b[0;34m(self)\u001b[0m\n\u001b[1;32m    434\u001b[0m     \u001b[0;34m\"\"\"Root class for Screen based on Tkinter.\"\"\"\u001b[0m\u001b[0;34m\u001b[0m\u001b[0;34m\u001b[0m\u001b[0m\n\u001b[1;32m    435\u001b[0m     \u001b[0;32mdef\u001b[0m \u001b[0m__init__\u001b[0m\u001b[0;34m(\u001b[0m\u001b[0mself\u001b[0m\u001b[0;34m)\u001b[0m\u001b[0;34m:\u001b[0m\u001b[0;34m\u001b[0m\u001b[0;34m\u001b[0m\u001b[0m\n\u001b[0;32m--> 436\u001b[0;31m         \u001b[0mTK\u001b[0m\u001b[0;34m.\u001b[0m\u001b[0mTk\u001b[0m\u001b[0;34m.\u001b[0m\u001b[0m__init__\u001b[0m\u001b[0;34m(\u001b[0m\u001b[0mself\u001b[0m\u001b[0;34m)\u001b[0m\u001b[0;34m\u001b[0m\u001b[0;34m\u001b[0m\u001b[0m\n\u001b[0m\u001b[1;32m    437\u001b[0m \u001b[0;34m\u001b[0m\u001b[0m\n\u001b[1;32m    438\u001b[0m     \u001b[0;32mdef\u001b[0m \u001b[0msetupcanvas\u001b[0m\u001b[0;34m(\u001b[0m\u001b[0mself\u001b[0m\u001b[0;34m,\u001b[0m \u001b[0mwidth\u001b[0m\u001b[0;34m,\u001b[0m \u001b[0mheight\u001b[0m\u001b[0;34m,\u001b[0m \u001b[0mcwidth\u001b[0m\u001b[0;34m,\u001b[0m \u001b[0mcheight\u001b[0m\u001b[0;34m)\u001b[0m\u001b[0;34m:\u001b[0m\u001b[0;34m\u001b[0m\u001b[0;34m\u001b[0m\u001b[0m\n",
            "\u001b[0;32m/usr/lib/python3.11/tkinter/__init__.py\u001b[0m in \u001b[0;36m__init__\u001b[0;34m(self, screenName, baseName, className, useTk, sync, use)\u001b[0m\n\u001b[1;32m   2324\u001b[0m                 \u001b[0mbaseName\u001b[0m \u001b[0;34m=\u001b[0m \u001b[0mbaseName\u001b[0m \u001b[0;34m+\u001b[0m \u001b[0mext\u001b[0m\u001b[0;34m\u001b[0m\u001b[0;34m\u001b[0m\u001b[0m\n\u001b[1;32m   2325\u001b[0m         \u001b[0minteractive\u001b[0m \u001b[0;34m=\u001b[0m \u001b[0;32mFalse\u001b[0m\u001b[0;34m\u001b[0m\u001b[0;34m\u001b[0m\u001b[0m\n\u001b[0;32m-> 2326\u001b[0;31m         \u001b[0mself\u001b[0m\u001b[0;34m.\u001b[0m\u001b[0mtk\u001b[0m \u001b[0;34m=\u001b[0m \u001b[0m_tkinter\u001b[0m\u001b[0;34m.\u001b[0m\u001b[0mcreate\u001b[0m\u001b[0;34m(\u001b[0m\u001b[0mscreenName\u001b[0m\u001b[0;34m,\u001b[0m \u001b[0mbaseName\u001b[0m\u001b[0;34m,\u001b[0m \u001b[0mclassName\u001b[0m\u001b[0;34m,\u001b[0m \u001b[0minteractive\u001b[0m\u001b[0;34m,\u001b[0m \u001b[0mwantobjects\u001b[0m\u001b[0;34m,\u001b[0m \u001b[0museTk\u001b[0m\u001b[0;34m,\u001b[0m \u001b[0msync\u001b[0m\u001b[0;34m,\u001b[0m \u001b[0muse\u001b[0m\u001b[0;34m)\u001b[0m\u001b[0;34m\u001b[0m\u001b[0;34m\u001b[0m\u001b[0m\n\u001b[0m\u001b[1;32m   2327\u001b[0m         \u001b[0;32mif\u001b[0m \u001b[0museTk\u001b[0m\u001b[0;34m:\u001b[0m\u001b[0;34m\u001b[0m\u001b[0;34m\u001b[0m\u001b[0m\n\u001b[1;32m   2328\u001b[0m             \u001b[0mself\u001b[0m\u001b[0;34m.\u001b[0m\u001b[0m_loadtk\u001b[0m\u001b[0;34m(\u001b[0m\u001b[0;34m)\u001b[0m\u001b[0;34m\u001b[0m\u001b[0;34m\u001b[0m\u001b[0m\n",
            "\u001b[0;31mTclError\u001b[0m: no display name and no $DISPLAY environment variable"
          ]
        }
      ]
    },
    {
      "cell_type": "code",
      "source": [
        "import math\n",
        "def rlc_impedence(R,L,C,F):\n",
        "  xl=2*math.pi*F*L\n",
        "  xc=1/(2*math.pi*C*F)\n",
        "  return math.sqrt(R**2+(xl-xc)**2)\n",
        "R=100\n",
        "L=0.5\n",
        "C=1e-6\n",
        "F=50\n",
        "print(\"RLC circuit imoedence is\",rlc_impedence(R,L,C,F),\"Ohms\")"
      ],
      "metadata": {
        "id": "jmcRquK-M6iI"
      },
      "execution_count": null,
      "outputs": []
    },
    {
      "cell_type": "code",
      "source": [
        "#Three phase power calculation\n",
        "import math\n",
        "def Three_phase_power(v_line,i_line,power_factor):\n",
        "  return math.sqrt(3)*v_line*i_line*power_factor\n",
        "v_line=440\n",
        "i_line=20\n",
        "\n",
        "power_factor=0.9\n",
        "print(\"Real Power P=\",Three_phase_power(v_line,i_line,power_factor))"
      ],
      "metadata": {
        "id": "CtUP345Ij8U-"
      },
      "execution_count": null,
      "outputs": []
    },
    {
      "cell_type": "code",
      "source": [
        "\n",
        "\n"
      ],
      "metadata": {
        "id": "DY4FmrtUllHM"
      },
      "execution_count": null,
      "outputs": []
    },
    {
      "cell_type": "code",
      "source": [
        "import mymodule\n",
        "a=mymodule.person1[\"Age\"]\n",
        "print(a)"
      ],
      "metadata": {
        "colab": {
          "base_uri": "https://localhost:8080/",
          "height": 349
        },
        "id": "Pkp8Me6plpkM",
        "outputId": "d10b4cc1-44e6-47a9-e0cd-633144d24556"
      },
      "execution_count": null,
      "outputs": [
        {
          "output_type": "error",
          "ename": "ModuleNotFoundError",
          "evalue": "No module named 'mymodule'",
          "traceback": [
            "\u001b[0;31m---------------------------------------------------------------------------\u001b[0m",
            "\u001b[0;31mModuleNotFoundError\u001b[0m                       Traceback (most recent call last)",
            "\u001b[0;32m/tmp/ipython-input-1746767052.py\u001b[0m in \u001b[0;36m<cell line: 0>\u001b[0;34m()\u001b[0m\n\u001b[0;32m----> 1\u001b[0;31m \u001b[0;32mimport\u001b[0m \u001b[0mmymodule\u001b[0m\u001b[0;34m\u001b[0m\u001b[0;34m\u001b[0m\u001b[0m\n\u001b[0m\u001b[1;32m      2\u001b[0m \u001b[0ma\u001b[0m\u001b[0;34m=\u001b[0m\u001b[0mmymodule\u001b[0m\u001b[0;34m.\u001b[0m\u001b[0mperson1\u001b[0m\u001b[0;34m[\u001b[0m\u001b[0;34m\"Age\"\u001b[0m\u001b[0;34m]\u001b[0m\u001b[0;34m\u001b[0m\u001b[0;34m\u001b[0m\u001b[0m\n\u001b[1;32m      3\u001b[0m \u001b[0mprint\u001b[0m\u001b[0;34m(\u001b[0m\u001b[0ma\u001b[0m\u001b[0;34m)\u001b[0m\u001b[0;34m\u001b[0m\u001b[0;34m\u001b[0m\u001b[0m\n",
            "\u001b[0;31mModuleNotFoundError\u001b[0m: No module named 'mymodule'",
            "",
            "\u001b[0;31m---------------------------------------------------------------------------\u001b[0;32m\nNOTE: If your import is failing due to a missing package, you can\nmanually install dependencies using either !pip or !apt.\n\nTo view examples of installing some common dependencies, click the\n\"Open Examples\" button below.\n\u001b[0;31m---------------------------------------------------------------------------\u001b[0m\n"
          ],
          "errorDetails": {
            "actions": [
              {
                "action": "open_url",
                "actionText": "Open Examples",
                "url": "/notebooks/snippets/importing_libraries.ipynb"
              }
            ]
          }
        }
      ]
    },
    {
      "cell_type": "code",
      "source": [
        "import random\n",
        "import time\n",
        "\n",
        "names = [\"Macha\", \"Bro\", \"Anna\", \"Bava\", \"Boss\",\"RAghu\"]\n",
        "\n",
        "for day in range(1, 6):  # 5 days example\n",
        "    winner = random.choice(names)\n",
        "    print(\"Day\", day, \"- Lucky name is:\", winner)\n",
        "    time.sleep(2)  # 1 second gap for drama 😎\n"
      ],
      "metadata": {
        "colab": {
          "base_uri": "https://localhost:8080/"
        },
        "id": "w9czxmBCukqK",
        "outputId": "36081340-dfee-4f27-cafd-bfd02aa65542"
      },
      "execution_count": null,
      "outputs": [
        {
          "output_type": "stream",
          "name": "stdout",
          "text": [
            "Day 1 - Lucky name is: Bava\n",
            "Day 2 - Lucky name is: Bro\n",
            "Day 3 - Lucky name is: Anna\n",
            "Day 4 - Lucky name is: Anna\n",
            "Day 5 - Lucky name is: RAghu\n"
          ]
        }
      ]
    },
    {
      "cell_type": "code",
      "source": [
        "l=[1,52,5,4,4]\n",
        "l[-1]"
      ],
      "metadata": {
        "colab": {
          "base_uri": "https://localhost:8080/"
        },
        "id": "hlqQ1n5AwmIp",
        "outputId": "40fe1215-6ab3-4e81-e81a-8e6b49c552d6"
      },
      "execution_count": null,
      "outputs": [
        {
          "output_type": "execute_result",
          "data": {
            "text/plain": [
              "4"
            ]
          },
          "metadata": {},
          "execution_count": 36
        }
      ]
    },
    {
      "cell_type": "code",
      "source": [
        "import random\n",
        "from time import sleep\n",
        "names=[\"a\",\"b\",\"c\",\"d\",\"e\"]\n",
        "for g in range(1,6):\n",
        "  l=random.choice(names)\n",
        "  print(g,\"lucky winner is \",l)\n",
        "  sleep(1)"
      ],
      "metadata": {
        "colab": {
          "base_uri": "https://localhost:8080/"
        },
        "id": "IL7BoWl5y1dJ",
        "outputId": "fd72d009-7391-41b8-f660-aaf7e532b42e"
      },
      "execution_count": null,
      "outputs": [
        {
          "output_type": "stream",
          "name": "stdout",
          "text": [
            "1 lucky winner is  b\n",
            "2 lucky winner is  c\n",
            "3 lucky winner is  a\n",
            "4 lucky winner is  c\n",
            "5 lucky winner is  d\n"
          ]
        }
      ]
    },
    {
      "cell_type": "code",
      "source": [
        "from random import choice\n",
        "from time import sleep\n",
        "names=[\"a\",\"b\",\"c\",\"d\",\"e\"]\n",
        "for i in range(len(names)):\n",
        "  print(\"day\",i,\"Lucky winner is \",choice(names))\n",
        "  sleep(1)"
      ],
      "metadata": {
        "colab": {
          "base_uri": "https://localhost:8080/"
        },
        "id": "Q1tiSnRDz33I",
        "outputId": "8f615b0a-242d-4c22-a150-12421203fd17"
      },
      "execution_count": null,
      "outputs": [
        {
          "output_type": "stream",
          "name": "stdout",
          "text": [
            "day 0 Lucky winner is  b\n",
            "day 1 Lucky winner is  b\n",
            "day 2 Lucky winner is  a\n",
            "day 3 Lucky winner is  c\n",
            "day 4 Lucky winner is  d\n"
          ]
        }
      ]
    },
    {
      "cell_type": "code",
      "source": [
        "from random import choice\n",
        "\n",
        "# Step 1: Ask the user to enter names\n",
        "names = input(\"Enter names separated by commas: \").split(\",\")\n",
        "\n",
        "# Step 2: Remove extra spaces from each name\n",
        "\n",
        "\n",
        "# Step 3: Pick a random name\n",
        "winner = choice(names)\n",
        "\n",
        "# Step 4: Show the result\n",
        "print(f\"🎉 The lucky winner is: {winner}\")\n"
      ],
      "metadata": {
        "id": "925UTmGL40W3",
        "colab": {
          "base_uri": "https://localhost:8080/"
        },
        "outputId": "2378f1b0-7b6e-4ed8-d2d9-0d79222e6ea3"
      },
      "execution_count": null,
      "outputs": [
        {
          "output_type": "stream",
          "name": "stdout",
          "text": [
            "Enter names separated by commas:  Raghu,Deva,Aswan,Gowtham,Shashikanth,Balaji,Hemanth,Ajay,Vinay\n",
            "🎉 The lucky winner is: Deva\n"
          ]
        }
      ]
    },
    {
      "cell_type": "code",
      "source": [
        "import numpy as np\n",
        "arr=np.array({4,6,1,9,3})\n",
        "print(arr)"
      ],
      "metadata": {
        "id": "FGcYEQBL7PxG",
        "colab": {
          "base_uri": "https://localhost:8080/"
        },
        "outputId": "09ebff8f-fc44-450f-b19e-bfb8ec717ab2"
      },
      "execution_count": null,
      "outputs": [
        {
          "output_type": "stream",
          "name": "stdout",
          "text": [
            "{1, 3, 4, 6, 9}\n"
          ]
        }
      ]
    },
    {
      "cell_type": "code",
      "source": [
        "third_list=[10,50,100]\n",
        "print(\"original\",third_list)\n",
        "third_list.append(90)\n",
        "third_list.insert(1,11)\n",
        "print(\"Update\",third_list)"
      ],
      "metadata": {
        "id": "VRTRd0y9Bu1m",
        "colab": {
          "base_uri": "https://localhost:8080/"
        },
        "outputId": "96e41943-c8d7-4697-977f-3f3a84333a51"
      },
      "execution_count": null,
      "outputs": [
        {
          "output_type": "stream",
          "name": "stdout",
          "text": [
            "original [10, 50, 100]\n",
            "Update [10, 11, 50, 100, 90]\n"
          ]
        }
      ]
    },
    {
      "cell_type": "code",
      "source": [
        "student_tuple=(1,5,6,7,8,9,7,8,9,10)\n",
        "print(\"Original:\",student_tuple)\n",
        "New_tuple=student_tuple+(1,2,3)\n",
        "print(\"New_tuple\",New_tuple)"
      ],
      "metadata": {
        "colab": {
          "base_uri": "https://localhost:8080/"
        },
        "id": "wS5vUtQOLYo-",
        "outputId": "5fda4fd2-9b48-4617-e3e9-e87e603e122d"
      },
      "execution_count": null,
      "outputs": [
        {
          "output_type": "stream",
          "name": "stdout",
          "text": [
            "Original: (1, 5, 6, 7, 8, 9, 7, 8, 9, 10)\n",
            "New_tuple (1, 5, 6, 7, 8, 9, 7, 8, 9, 10, 1, 2, 3)\n"
          ]
        }
      ]
    },
    {
      "cell_type": "code",
      "source": [
        "student_set={1,2,3,4,5,6,7,8,9,10}\n",
        "print('Original',student_set)\n",
        "student_set.add(11)\n",
        "student_set.add(15)\n",
        "student_set.remove(2)\n",
        "print(\"Updated\",student_set)"
      ],
      "metadata": {
        "colab": {
          "base_uri": "https://localhost:8080/"
        },
        "id": "e41iN-UvPavc",
        "outputId": "5922c08f-c270-46fb-eb6e-82f83392c8ca"
      },
      "execution_count": null,
      "outputs": [
        {
          "output_type": "stream",
          "name": "stdout",
          "text": [
            "Original {1, 2, 3, 4, 5, 6, 7, 8, 9, 10}\n",
            "Updated {1, 3, 4, 5, 6, 7, 8, 9, 10, 11, 15}\n"
          ]
        }
      ]
    },
    {
      "cell_type": "code",
      "source": [
        "class Motor:\n",
        "  def __init__(self,power_kw,efficiency):\n",
        "    self.power_kw=power_kw\n",
        "    self.efficiency=efficiency\n",
        "  def output_power(self):\n",
        "    return self.power_kw*self.efficiency\n",
        "motor1=Motor(10,0.92)\n",
        "print(motor1.output_power())"
      ],
      "metadata": {
        "id": "HN03zx8uZtAW",
        "colab": {
          "base_uri": "https://localhost:8080/"
        },
        "outputId": "41525fd8-8598-44db-b05c-d46f8f13aebc"
      },
      "execution_count": null,
      "outputs": [
        {
          "output_type": "stream",
          "name": "stdout",
          "text": [
            "9.200000000000001\n"
          ]
        }
      ]
    },
    {
      "cell_type": "code",
      "source": [
        "import turtle as t\n",
        "from random import random\n",
        "\n",
        "for i in range(100):\n",
        "    steps = int(random() * 100)\n",
        "    angle = int(random() * 360)\n",
        "    t.right(angle)\n",
        "    t.fd(steps)"
      ],
      "metadata": {
        "colab": {
          "base_uri": "https://localhost:8080/",
          "height": 339
        },
        "id": "51Sg6idiBKRT",
        "outputId": "f7302fd1-a73f-4225-b202-53ca623e452b"
      },
      "execution_count": null,
      "outputs": [
        {
          "output_type": "error",
          "ename": "TclError",
          "evalue": "no display name and no $DISPLAY environment variable",
          "traceback": [
            "\u001b[0;31m---------------------------------------------------------------------------\u001b[0m",
            "\u001b[0;31mTclError\u001b[0m                                  Traceback (most recent call last)",
            "\u001b[0;32m/tmp/ipython-input-3540772651.py\u001b[0m in \u001b[0;36m<cell line: 0>\u001b[0;34m()\u001b[0m\n\u001b[1;32m      5\u001b[0m     \u001b[0msteps\u001b[0m \u001b[0;34m=\u001b[0m \u001b[0mint\u001b[0m\u001b[0;34m(\u001b[0m\u001b[0mrandom\u001b[0m\u001b[0;34m(\u001b[0m\u001b[0;34m)\u001b[0m \u001b[0;34m*\u001b[0m \u001b[0;36m100\u001b[0m\u001b[0;34m)\u001b[0m\u001b[0;34m\u001b[0m\u001b[0;34m\u001b[0m\u001b[0m\n\u001b[1;32m      6\u001b[0m     \u001b[0mangle\u001b[0m \u001b[0;34m=\u001b[0m \u001b[0mint\u001b[0m\u001b[0;34m(\u001b[0m\u001b[0mrandom\u001b[0m\u001b[0;34m(\u001b[0m\u001b[0;34m)\u001b[0m \u001b[0;34m*\u001b[0m \u001b[0;36m360\u001b[0m\u001b[0;34m)\u001b[0m\u001b[0;34m\u001b[0m\u001b[0;34m\u001b[0m\u001b[0m\n\u001b[0;32m----> 7\u001b[0;31m     \u001b[0mt\u001b[0m\u001b[0;34m.\u001b[0m\u001b[0mright\u001b[0m\u001b[0;34m(\u001b[0m\u001b[0mangle\u001b[0m\u001b[0;34m)\u001b[0m\u001b[0;34m\u001b[0m\u001b[0;34m\u001b[0m\u001b[0m\n\u001b[0m\u001b[1;32m      8\u001b[0m     \u001b[0mt\u001b[0m\u001b[0;34m.\u001b[0m\u001b[0mfd\u001b[0m\u001b[0;34m(\u001b[0m\u001b[0msteps\u001b[0m\u001b[0;34m)\u001b[0m\u001b[0;34m\u001b[0m\u001b[0;34m\u001b[0m\u001b[0m\n",
            "\u001b[0;32m/usr/lib/python3.11/turtle.py\u001b[0m in \u001b[0;36mright\u001b[0;34m(angle)\u001b[0m\n",
            "\u001b[0;32m/usr/lib/python3.11/turtle.py\u001b[0m in \u001b[0;36m__init__\u001b[0;34m(self, shape, undobuffersize, visible)\u001b[0m\n\u001b[1;32m   3828\u001b[0m                  visible=_CFG[\"visible\"]):\n\u001b[1;32m   3829\u001b[0m         \u001b[0;32mif\u001b[0m \u001b[0mTurtle\u001b[0m\u001b[0;34m.\u001b[0m\u001b[0m_screen\u001b[0m \u001b[0;32mis\u001b[0m \u001b[0;32mNone\u001b[0m\u001b[0;34m:\u001b[0m\u001b[0;34m\u001b[0m\u001b[0;34m\u001b[0m\u001b[0m\n\u001b[0;32m-> 3830\u001b[0;31m             \u001b[0mTurtle\u001b[0m\u001b[0;34m.\u001b[0m\u001b[0m_screen\u001b[0m \u001b[0;34m=\u001b[0m \u001b[0mScreen\u001b[0m\u001b[0;34m(\u001b[0m\u001b[0;34m)\u001b[0m\u001b[0;34m\u001b[0m\u001b[0;34m\u001b[0m\u001b[0m\n\u001b[0m\u001b[1;32m   3831\u001b[0m         RawTurtle.__init__(self, Turtle._screen,\n\u001b[1;32m   3832\u001b[0m                            \u001b[0mshape\u001b[0m\u001b[0;34m=\u001b[0m\u001b[0mshape\u001b[0m\u001b[0;34m,\u001b[0m\u001b[0;34m\u001b[0m\u001b[0;34m\u001b[0m\u001b[0m\n",
            "\u001b[0;32m/usr/lib/python3.11/turtle.py\u001b[0m in \u001b[0;36mScreen\u001b[0;34m()\u001b[0m\n\u001b[1;32m   3678\u001b[0m     else return the existing one.\"\"\"\n\u001b[1;32m   3679\u001b[0m     \u001b[0;32mif\u001b[0m \u001b[0mTurtle\u001b[0m\u001b[0;34m.\u001b[0m\u001b[0m_screen\u001b[0m \u001b[0;32mis\u001b[0m \u001b[0;32mNone\u001b[0m\u001b[0;34m:\u001b[0m\u001b[0;34m\u001b[0m\u001b[0;34m\u001b[0m\u001b[0m\n\u001b[0;32m-> 3680\u001b[0;31m         \u001b[0mTurtle\u001b[0m\u001b[0;34m.\u001b[0m\u001b[0m_screen\u001b[0m \u001b[0;34m=\u001b[0m \u001b[0m_Screen\u001b[0m\u001b[0;34m(\u001b[0m\u001b[0;34m)\u001b[0m\u001b[0;34m\u001b[0m\u001b[0;34m\u001b[0m\u001b[0m\n\u001b[0m\u001b[1;32m   3681\u001b[0m     \u001b[0;32mreturn\u001b[0m \u001b[0mTurtle\u001b[0m\u001b[0;34m.\u001b[0m\u001b[0m_screen\u001b[0m\u001b[0;34m\u001b[0m\u001b[0;34m\u001b[0m\u001b[0m\n\u001b[1;32m   3682\u001b[0m \u001b[0;34m\u001b[0m\u001b[0m\n",
            "\u001b[0;32m/usr/lib/python3.11/turtle.py\u001b[0m in \u001b[0;36m__init__\u001b[0;34m(self)\u001b[0m\n\u001b[1;32m   3694\u001b[0m         \u001b[0;31m# preserved (perhaps by passing it as an optional parameter)\u001b[0m\u001b[0;34m\u001b[0m\u001b[0;34m\u001b[0m\u001b[0m\n\u001b[1;32m   3695\u001b[0m         \u001b[0;32mif\u001b[0m \u001b[0m_Screen\u001b[0m\u001b[0;34m.\u001b[0m\u001b[0m_root\u001b[0m \u001b[0;32mis\u001b[0m \u001b[0;32mNone\u001b[0m\u001b[0;34m:\u001b[0m\u001b[0;34m\u001b[0m\u001b[0;34m\u001b[0m\u001b[0m\n\u001b[0;32m-> 3696\u001b[0;31m             \u001b[0m_Screen\u001b[0m\u001b[0;34m.\u001b[0m\u001b[0m_root\u001b[0m \u001b[0;34m=\u001b[0m \u001b[0mself\u001b[0m\u001b[0;34m.\u001b[0m\u001b[0m_root\u001b[0m \u001b[0;34m=\u001b[0m \u001b[0m_Root\u001b[0m\u001b[0;34m(\u001b[0m\u001b[0;34m)\u001b[0m\u001b[0;34m\u001b[0m\u001b[0;34m\u001b[0m\u001b[0m\n\u001b[0m\u001b[1;32m   3697\u001b[0m             \u001b[0mself\u001b[0m\u001b[0;34m.\u001b[0m\u001b[0m_root\u001b[0m\u001b[0;34m.\u001b[0m\u001b[0mtitle\u001b[0m\u001b[0;34m(\u001b[0m\u001b[0m_Screen\u001b[0m\u001b[0;34m.\u001b[0m\u001b[0m_title\u001b[0m\u001b[0;34m)\u001b[0m\u001b[0;34m\u001b[0m\u001b[0;34m\u001b[0m\u001b[0m\n\u001b[1;32m   3698\u001b[0m             \u001b[0mself\u001b[0m\u001b[0;34m.\u001b[0m\u001b[0m_root\u001b[0m\u001b[0;34m.\u001b[0m\u001b[0mondestroy\u001b[0m\u001b[0;34m(\u001b[0m\u001b[0mself\u001b[0m\u001b[0;34m.\u001b[0m\u001b[0m_destroy\u001b[0m\u001b[0;34m)\u001b[0m\u001b[0;34m\u001b[0m\u001b[0;34m\u001b[0m\u001b[0m\n",
            "\u001b[0;32m/usr/lib/python3.11/turtle.py\u001b[0m in \u001b[0;36m__init__\u001b[0;34m(self)\u001b[0m\n\u001b[1;32m    434\u001b[0m     \u001b[0;34m\"\"\"Root class for Screen based on Tkinter.\"\"\"\u001b[0m\u001b[0;34m\u001b[0m\u001b[0;34m\u001b[0m\u001b[0m\n\u001b[1;32m    435\u001b[0m     \u001b[0;32mdef\u001b[0m \u001b[0m__init__\u001b[0m\u001b[0;34m(\u001b[0m\u001b[0mself\u001b[0m\u001b[0;34m)\u001b[0m\u001b[0;34m:\u001b[0m\u001b[0;34m\u001b[0m\u001b[0;34m\u001b[0m\u001b[0m\n\u001b[0;32m--> 436\u001b[0;31m         \u001b[0mTK\u001b[0m\u001b[0;34m.\u001b[0m\u001b[0mTk\u001b[0m\u001b[0;34m.\u001b[0m\u001b[0m__init__\u001b[0m\u001b[0;34m(\u001b[0m\u001b[0mself\u001b[0m\u001b[0;34m)\u001b[0m\u001b[0;34m\u001b[0m\u001b[0;34m\u001b[0m\u001b[0m\n\u001b[0m\u001b[1;32m    437\u001b[0m \u001b[0;34m\u001b[0m\u001b[0m\n\u001b[1;32m    438\u001b[0m     \u001b[0;32mdef\u001b[0m \u001b[0msetupcanvas\u001b[0m\u001b[0;34m(\u001b[0m\u001b[0mself\u001b[0m\u001b[0;34m,\u001b[0m \u001b[0mwidth\u001b[0m\u001b[0;34m,\u001b[0m \u001b[0mheight\u001b[0m\u001b[0;34m,\u001b[0m \u001b[0mcwidth\u001b[0m\u001b[0;34m,\u001b[0m \u001b[0mcheight\u001b[0m\u001b[0;34m)\u001b[0m\u001b[0;34m:\u001b[0m\u001b[0;34m\u001b[0m\u001b[0;34m\u001b[0m\u001b[0m\n",
            "\u001b[0;32m/usr/lib/python3.11/tkinter/__init__.py\u001b[0m in \u001b[0;36m__init__\u001b[0;34m(self, screenName, baseName, className, useTk, sync, use)\u001b[0m\n\u001b[1;32m   2324\u001b[0m                 \u001b[0mbaseName\u001b[0m \u001b[0;34m=\u001b[0m \u001b[0mbaseName\u001b[0m \u001b[0;34m+\u001b[0m \u001b[0mext\u001b[0m\u001b[0;34m\u001b[0m\u001b[0;34m\u001b[0m\u001b[0m\n\u001b[1;32m   2325\u001b[0m         \u001b[0minteractive\u001b[0m \u001b[0;34m=\u001b[0m \u001b[0;32mFalse\u001b[0m\u001b[0;34m\u001b[0m\u001b[0;34m\u001b[0m\u001b[0m\n\u001b[0;32m-> 2326\u001b[0;31m         \u001b[0mself\u001b[0m\u001b[0;34m.\u001b[0m\u001b[0mtk\u001b[0m \u001b[0;34m=\u001b[0m \u001b[0m_tkinter\u001b[0m\u001b[0;34m.\u001b[0m\u001b[0mcreate\u001b[0m\u001b[0;34m(\u001b[0m\u001b[0mscreenName\u001b[0m\u001b[0;34m,\u001b[0m \u001b[0mbaseName\u001b[0m\u001b[0;34m,\u001b[0m \u001b[0mclassName\u001b[0m\u001b[0;34m,\u001b[0m \u001b[0minteractive\u001b[0m\u001b[0;34m,\u001b[0m \u001b[0mwantobjects\u001b[0m\u001b[0;34m,\u001b[0m \u001b[0museTk\u001b[0m\u001b[0;34m,\u001b[0m \u001b[0msync\u001b[0m\u001b[0;34m,\u001b[0m \u001b[0muse\u001b[0m\u001b[0;34m)\u001b[0m\u001b[0;34m\u001b[0m\u001b[0;34m\u001b[0m\u001b[0m\n\u001b[0m\u001b[1;32m   2327\u001b[0m         \u001b[0;32mif\u001b[0m \u001b[0museTk\u001b[0m\u001b[0;34m:\u001b[0m\u001b[0;34m\u001b[0m\u001b[0;34m\u001b[0m\u001b[0m\n\u001b[1;32m   2328\u001b[0m             \u001b[0mself\u001b[0m\u001b[0;34m.\u001b[0m\u001b[0m_loadtk\u001b[0m\u001b[0;34m(\u001b[0m\u001b[0;34m)\u001b[0m\u001b[0;34m\u001b[0m\u001b[0;34m\u001b[0m\u001b[0m\n",
            "\u001b[0;31mTclError\u001b[0m: no display name and no $DISPLAY environment variable"
          ]
        }
      ]
    },
    {
      "cell_type": "code",
      "source": [
        "from scipy.optimize import fsolve\n",
        "def eq(x):\n",
        "  return 3*x**2-x-1\n",
        "root=fsolve(eq,0)\n",
        "print(\"Root:\",root)"
      ],
      "metadata": {
        "colab": {
          "base_uri": "https://localhost:8080/"
        },
        "id": "mgz9Xzf0DJPR",
        "outputId": "5936eed1-1e90-4143-b921-87d87d6425fa"
      },
      "execution_count": null,
      "outputs": [
        {
          "output_type": "stream",
          "name": "stdout",
          "text": [
            "Root: [-0.43425855]\n"
          ]
        }
      ]
    },
    {
      "cell_type": "code",
      "source": [
        "import numpy as np\n",
        "samples=np.random.normal(50,5,10000)\n",
        "failure_rate=np.mean(samples>60)\n",
        "print(\"Failure rate:\",failure_rate*100,\"%\")"
      ],
      "metadata": {
        "colab": {
          "base_uri": "https://localhost:8080/"
        },
        "id": "TGN_Mrm9Gl0B",
        "outputId": "3034b8f3-6add-4155-8fcd-fb3ff0595183"
      },
      "execution_count": null,
      "outputs": [
        {
          "output_type": "stream",
          "name": "stdout",
          "text": [
            "Failure rate: 2.3800000000000003 %\n"
          ]
        }
      ]
    },
    {
      "cell_type": "code",
      "source": [
        "import numpy as np\n",
        "import matplotlib.pyplot as plt\n",
        "from scipy.signal import firwin, lfilter, freqz, butter, filtfilt\n",
        "\n",
        "def design_fir_filter(order, cutoff, fs, filter_type='low'):\n",
        "  nyq = 0.5 *fs\n",
        "  normalized_cutoff = np.array(cutoff) / nyq\n",
        "  if filter_type == 'low':\n",
        "    pass_zero = True\n",
        "  elif filter_type == 'high':\n",
        "    pass_zero = False\n",
        "  elif filter_type in ['bandpass', 'bandstop']:\n",
        "    pass_zero = filter_type\n",
        "  else:\n",
        "    raise ValueError(\"Invalid filter_type. Choose from 'low', 'high', 'bandpass', 'bandstop'.\")\n",
        "  fir_coeff = firwin(order + 1, normalized_cutoff, pass_zero=pass_zero)\n",
        "  return fir_coeff\n",
        "\n",
        "\n",
        "def design_iir_filter(order, cutoff, fs, filter_type='low'):\n",
        "  nyq = 0.5 * fs\n",
        "  normalized_cutoff = np.array(cutoff) / nyq\n",
        "  b, a = butter(order, normalized_cutoff, btype=filter_type, analog=False)\n",
        "  return b, a\n",
        "\n",
        "def apply_filter(b, a, signal, use_filtfilt=False):\n",
        "  if use_filtfilt:\n",
        "    filtered_signal = filtfilt(b, a, signal) # zero-phase filtering\n",
        "  else:\n",
        "    filtered_signal = lfilter(b, a, signal)\n",
        "  return filtered_signal\n",
        "\n",
        "def plot_frequency_response(b, a=1, fs=1.0, title='Frequency Response'):\n",
        "  w, h = freqz(b, a, worN=8000)\n",
        "\n",
        "  plt.plot((fs * 0.5 / np.pi) * w, 20 * np.log10(abs(h)), 'b')\n",
        "  plt.title(title)\n",
        "  plt.xlabel('Frequency (Hz)')\n",
        "  plt.ylabel('Gain (dB)')\n",
        "  plt.grid(True)\n",
        "  plt.show()\n",
        "if __name__ == \"__main__\":\n",
        "  fs = 500.0 # Sampling frequency (Hz)\n",
        "  t = np.arange(0, 2.0, 1/fs) # Time vector for 2 seconds\n",
        "\n",
        "# Create a noisy signal: 5 Hz sine + white noise + 50 Hz interference\n",
        "  freq_signal = 5.0\n",
        "  noisy_signal = (np.sin(2 * np.pi * freq_signal * t) +0.5 * np.random.randn(len(t)) +0.3 * np.sin(2 * np.pi * 50 * t))\n",
        "\n",
        "# Filter parameters\n",
        "  fir_order = 50\n",
        "  iir_order = 4\n",
        "  cutoff = 10 # cutoff frequency (Hz)\n",
        "  filter_type = 'low' # lowpass filter\n",
        "\n",
        "# Design FIR filter\n",
        "  fir_b = design_fir_filter(fir_order, cutoff, fs, filter_type)\n",
        "\n",
        "# Design IIR filter\n",
        "\n",
        "  iir_b, iir_a = design_iir_filter(iir_order, cutoff, fs, filter_type)\n",
        "\n",
        "# Apply filters\n",
        "  fir_filtered = lfilter(fir_b, [1.0], noisy_signal)\n",
        "  iir_filtered = apply_filter(iir_b, iir_a, noisy_signal, use_filtfilt=True)\n",
        "\n",
        "# Plot time domain signals\n",
        "  plt.figure(figsize=(12, 8))\n",
        "\n",
        "  plt.subplot(3, 1, 1)\n",
        "  plt.plot(t, noisy_signal, label='Noisy Signal')\n",
        "  plt.legend()\n",
        "  plt.xlabel('Time [s]')\n",
        "  plt.ylabel('Amplitude')\n",
        "\n",
        "  plt.subplot(3, 1, 2)\n",
        "  plt.plot(t, fir_filtered, label='FIR Filtered Signal', color='orange')\n",
        "  plt.legend()\n",
        "  plt.xlabel('Time [s]')\n",
        "  plt.ylabel('Amplitude')\n",
        "\n",
        "  plt.subplot(3, 1, 3)\n",
        "  plt.plot(t, iir_filtered, label='IIR Filtered Signal', color='green')\n",
        "  plt.legend()\n",
        "  plt.xlabel('Time [s]')\n",
        "  plt.ylabel('Amplitude')\n",
        "\n",
        "  plt.tight_layout()\n",
        "\n",
        "  plt.show()\n",
        "\n",
        "# Plot frequency responses\n",
        "  plot_frequency_response(fir_b, fs=fs, title='FIR Filter Frequency Response')\n",
        "  plot_frequency_response(iir_b, iir_a, fs=fs, title='IIR Filter Frequency Response')"
      ],
      "metadata": {
        "id": "-E09Na5_LL7R",
        "colab": {
          "base_uri": "https://localhost:8080/",
          "height": 1000
        },
        "outputId": "ee444ebe-a7dc-4ffd-cf81-a698562ee851"
      },
      "execution_count": null,
      "outputs": [
        {
          "output_type": "display_data",
          "data": {
            "text/plain": [
              "<Figure size 1200x800 with 3 Axes>"
            ],
            "image/png": "[encoded data removed]"
          },
          "metadata": {}
        },
        {
          "output_type": "display_data",
          "data": {
            "text/plain": [
              "<Figure size 640x480 with 1 Axes>"
            ],
            "image/png": "[encoded data removed]"
          },
          "metadata": {}
        },
        {
          "output_type": "display_data",
          "data": {
            "text/plain": [
              "<Figure size 640x480 with 1 Axes>"
            ],
            "image/png": "[encoded data removed]"
          },
          "metadata": {}
        }
      ]
    },
    {
      "cell_type": "code",
      "source": [],
      "metadata": {
        "id": "4XrEEYKZvg1t"
      },
      "execution_count": null,
      "outputs": []
    }
  ]
}